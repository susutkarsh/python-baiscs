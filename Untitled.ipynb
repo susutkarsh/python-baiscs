{
 "cells": [
  {
   "cell_type": "code",
   "execution_count": 91,
   "id": "4bdf6e81",
   "metadata": {},
   "outputs": [
    {
     "name": "stdout",
     "output_type": "stream",
     "text": [
      "hello world!\n"
     ]
    }
   ],
   "source": [
    "print(\"hello world!\")"
   ]
  },
  {
   "cell_type": "code",
   "execution_count": null,
   "id": "b8f4e4c0",
   "metadata": {
    "scrolled": true
   },
   "outputs": [],
   "source": [
    "a=int(input(\"enter a numnber\"))\n",
    "b=int(input(\"enter  another number\"))\n",
    "c=a+b\n",
    "print(c)"
   ]
  },
  {
   "cell_type": "code",
   "execution_count": null,
   "id": "b513b56c",
   "metadata": {},
   "outputs": [],
   "source": [
    "a=int(input(\"enter a number to gets its square root\"))\n",
    "b=a**1/2\n",
    "print(b)\n",
    "\n"
   ]
  },
  {
   "cell_type": "code",
   "execution_count": null,
   "id": "ed072844",
   "metadata": {},
   "outputs": [],
   "source": [
    "a=float(input(\"enter the baase\"))\n",
    "b=float(input(\"enter the height of triangle\"))\n",
    "area=a*b*0.5\n",
    "print(\"area of triangle is::\",area)"
   ]
  },
  {
   "cell_type": "code",
   "execution_count": null,
   "id": "5b545d75",
   "metadata": {},
   "outputs": [],
   "source": [
    "a=int(input(\"enter the coffiecient of x^2\"))\n",
    "b=int(input(\"enter the coffiecient of x\"))\n",
    "c=int(input(\"enter the constant value\"))\n",
    "root1=(-b+((b**2)-4*a*c)**1/2)/(2*a)\n",
    "root2=(b+((b**2)-4*a*c)**1/2)/(2*a)\n",
    "print(\"root1\",root1)\n",
    "print(\"root2\",root2)\n",
    "              \n",
    "              \n",
    "              "
   ]
  },
  {
   "cell_type": "code",
   "execution_count": null,
   "id": "8de7c4d7",
   "metadata": {},
   "outputs": [],
   "source": [
    "a=int(input(\"enter a  number \"))\n",
    "b=int(input(\"enter another number\"))\n",
    "b=a+b\n",
    "a=b-a\n",
    "b=b-a\n",
    "print(\"a=\",a,\"b=\",b)\n"
   ]
  },
  {
   "cell_type": "code",
   "execution_count": null,
   "id": "fe89dbda",
   "metadata": {},
   "outputs": [],
   "source": [
    "import random\n",
    "a=random.randint(1,5)\n",
    "print(a)"
   ]
  },
  {
   "cell_type": "code",
   "execution_count": null,
   "id": "5f583a37",
   "metadata": {},
   "outputs": [],
   "source": [
    "dist=int(input(\"enter distance in km\"))\n",
    "miles=dist/1.609\n",
    "print(miles)"
   ]
  },
  {
   "cell_type": "code",
   "execution_count": null,
   "id": "fcbce160",
   "metadata": {},
   "outputs": [],
   "source": [
    "temp=int(input(\"enter tempreture in c\"))\n",
    "f=(temp*(9/5))+32\n",
    "print(\"tempreture in farenhgeite\",f)"
   ]
  },
  {
   "cell_type": "code",
   "execution_count": null,
   "id": "15b05a7f",
   "metadata": {},
   "outputs": [],
   "source": [
    "a=int(input(\"entr a number\"))\n",
    "if a<0:\n",
    "    print(\"number is negative\")\n",
    "elif a>0:\n",
    "    print(\"number is positive\")\n",
    "else:\n",
    "    \n",
    "    \n",
    "    print(\"number is 0\")"
   ]
  },
  {
   "cell_type": "code",
   "execution_count": null,
   "id": "e888fb08",
   "metadata": {},
   "outputs": [],
   "source": [
    "a=int(input(\"enter a number\"))\n",
    "\n",
    "if a%2==0 :\n",
    "    print(\"number is even\")\n",
    "else :\n",
    "    print(\"number is odd\")"
   ]
  },
  {
   "cell_type": "code",
   "execution_count": null,
   "id": "d8e10c60",
   "metadata": {},
   "outputs": [],
   "source": [
    "year=int(input(\"enter a year\"))\n",
    "if year%4==0 and year%100!=0 :\n",
    "    print(year,\"is leap\")\n",
    "else:\n",
    "    print(year,\"not leap\")"
   ]
  },
  {
   "cell_type": "code",
   "execution_count": 11,
   "id": "4c467275",
   "metadata": {
    "scrolled": true
   },
   "outputs": [
    {
     "name": "stdout",
     "output_type": "stream",
     "text": [
      "enter a number5\n",
      "enter a number5\n",
      "enter a number5\n",
      "all numbers are equal to 5\n"
     ]
    }
   ],
   "source": [
    "a=int(input(\"enter a number\"))\n",
    "b=int(input(\"enter a number\"))\n",
    "c=int(input(\"enter a number\"))\n",
    "\n",
    "if a>b and a>c :\n",
    "        print(a,\" is greatest\")\n",
    "elif b>a and b>c :\n",
    "        print(b,\" is greatest\")\n",
    "elif c>a and c>b:\n",
    "        print(c,\" is greatest\")\n",
    "else :\n",
    "    print(\"all numbers are equal to\",a)\n",
    "\n"
   ]
  },
  {
   "cell_type": "code",
   "execution_count": 32,
   "id": "c319d181",
   "metadata": {},
   "outputs": [
    {
     "name": "stdout",
     "output_type": "stream",
     "text": [
      "enter a number to check its prime or not7\n",
      "prime\n"
     ]
    }
   ],
   "source": [
    "a=int(input(\"enter a number to check its prime or not\"))\n",
    "f=0\n",
    "for i in range (2,a):\n",
    "    if a%i==0:\n",
    "        f=1\n",
    "        break\n",
    "if f==1:\n",
    "    print(\" not prime\")\n",
    "else:\n",
    "    print(\"prime\")\n",
    "     \n",
    "     \n",
    "\n",
    "\n"
   ]
  },
  {
   "cell_type": "code",
   "execution_count": 80,
   "id": "97845efb",
   "metadata": {},
   "outputs": [
    {
     "name": "stdout",
     "output_type": "stream",
     "text": [
      "enter lower limit3\n",
      "enter upper limit30\n",
      "3\n",
      "5\n",
      "7\n",
      "11\n",
      "13\n",
      "17\n",
      "19\n",
      "23\n",
      "29\n"
     ]
    }
   ],
   "source": [
    "a=int(input(\"enter lower limit\"))\n",
    "b=int(input(\"enter upper limit\"))\n",
    "f=0\n",
    "\n",
    "for i in range (a,b):\n",
    "    if i>1:\n",
    "        for j in range (2,i//2+1):\n",
    "            if i%j==0:\n",
    "                break\n",
    "        else: \n",
    "                print(i)\n",
    "     \n",
    "     \n",
    "\n",
    "\n"
   ]
  },
  {
   "cell_type": "code",
   "execution_count": 90,
   "id": "5ff72b76",
   "metadata": {},
   "outputs": [
    {
     "name": "stdout",
     "output_type": "stream",
     "text": [
      "enter a number to gets its factorial3\n",
      "factorial of  3 is 6\n"
     ]
    }
   ],
   "source": [
    "def fact(n):\n",
    "     if n==1 or n==0:\n",
    "        return 1\n",
    "    \n",
    "     else:\n",
    "        return n*fact(n-1)\n",
    "\n",
    "n=int(input(\"enter a number to gets its factorial\"))\n",
    "b=fact(n)\n",
    "print(\"factorial of \",n,\"is\",b)\n",
    "    "
   ]
  },
  {
   "cell_type": "code",
   "execution_count": 128,
   "id": "af4e44d6",
   "metadata": {},
   "outputs": [
    {
     "name": "stdout",
     "output_type": "stream",
     "text": [
      "enter a number to gets its table999999\n",
      "999999 * 1 = 999999\n",
      "999999 * 2 = 1999998\n",
      "999999 * 3 = 2999997\n",
      "999999 * 4 = 3999996\n",
      "999999 * 5 = 4999995\n",
      "999999 * 6 = 5999994\n",
      "999999 * 7 = 6999993\n",
      "999999 * 8 = 7999992\n",
      "999999 * 9 = 8999991\n",
      "999999 * 10 = 9999990\n"
     ]
    }
   ],
   "source": [
    "n=int(input(\"enter a number to gets its table\"))\n",
    "for i in range (1,11):\n",
    "    print(n,\"*\",i,\"=\",n*i)\n"
   ]
  },
  {
   "cell_type": "code",
   "execution_count": 112,
   "id": "352bf2aa",
   "metadata": {},
   "outputs": [
    {
     "name": "stdout",
     "output_type": "stream",
     "text": [
      "enter a number of terms fibonacci2\n",
      "0 \n",
      " 1\n"
     ]
    }
   ],
   "source": [
    "n=int(input(\"enter a number of terms fibonacci\"))\n",
    "x,y=0,1;\n",
    "if n<0:\n",
    "    print(\"enter a positive number\")\n",
    "elif n==1:\n",
    "    print(x)\n",
    "else:\n",
    "    x,y=0,1;\n",
    "    print(x,\"\\n\",y)\n",
    "    count=0\n",
    "    while (count<n-2):\n",
    "            z=x+y\n",
    "            print(z)\n",
    "            x=y\n",
    "            y=z\n",
    "            count=count+1"
   ]
  },
  {
   "cell_type": "code",
   "execution_count": 124,
   "id": "7176b37c",
   "metadata": {},
   "outputs": [
    {
     "name": "stdout",
     "output_type": "stream",
     "text": [
      "enter  number to check it is armstrong mumber or not999\n",
      "its not an armstrong number\n"
     ]
    }
   ],
   "source": [
    "n=int(input(\"enter  number to check it is armstrong mumber or not\"))\n",
    "x=n\n",
    "sum=0\n",
    "while(n>0):\n",
    "    a=n%10\n",
    "    sum=sum+(a*a*a)\n",
    "    n=n//10\n",
    "if sum==x:\n",
    "    print(\"its an armstrong number\")\n",
    "else:\n",
    "    print(\"its not an armstrong number\")"
   ]
  },
  {
   "cell_type": "code",
   "execution_count": 134,
   "id": "6b72ac67",
   "metadata": {},
   "outputs": [
    {
     "name": "stdout",
     "output_type": "stream",
     "text": [
      "enter lower limit1\n",
      "enter upper limit500\n",
      "1\n",
      "153\n",
      "370\n",
      "371\n",
      "407\n"
     ]
    }
   ],
   "source": [
    "x=int(input(\"enter lower limit\"))\n",
    "y=int(input(\"enter upper limit\"))\n",
    "printf(armstrong number between)\n",
    "for i in range (x,y):\n",
    "    n=i\n",
    "    sum=0\n",
    "    while(i>0):\n",
    "        a=i%10\n",
    "        sum=sum+(a*a*a)\n",
    "        i=i//10\n",
    "    if sum==n:\n",
    "        print(n)"
   ]
  },
  {
   "cell_type": "code",
   "execution_count": 136,
   "id": "082b81b7",
   "metadata": {},
   "outputs": [
    {
     "name": "stdout",
     "output_type": "stream",
     "text": [
      "enter a number9\n",
      "sum of  9 natural number is 45\n"
     ]
    }
   ],
   "source": [
    "n=int(input(\"enter a number\"))\n",
    "sum=0\n",
    "for i in range (1,n+1):\n",
    "    sum=sum+i\n",
    "print (\"sum of \",n,\"natural number is\",sum)"
   ]
  },
  {
   "cell_type": "code",
   "execution_count": null,
   "id": "20f6e17b",
   "metadata": {},
   "outputs": [],
   "source": [
    "x=lambda n:n*n\n",
    "n=int(input(\"enter a number\"))\n",
    "m=int(input(\"enter another number\"))\n",
    "print(\"square using of 1st lambda function\",x(n))\n",
    "print(\"square using of 2nd  lambda function\",x(m))"
   ]
  }
 ],
 "metadata": {
  "kernelspec": {
   "display_name": "Python 3",
   "language": "python",
   "name": "python3"
  },
  "language_info": {
   "codemirror_mode": {
    "name": "ipython",
    "version": 3
   },
   "file_extension": ".py",
   "mimetype": "text/x-python",
   "name": "python",
   "nbconvert_exporter": "python",
   "pygments_lexer": "ipython3",
   "version": "3.8.8"
  }
 },
 "nbformat": 4,
 "nbformat_minor": 5
}
